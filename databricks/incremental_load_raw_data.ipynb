{
 "cells": [
  {
   "cell_type": "markdown",
   "metadata": {
    "application/vnd.databricks.v1+cell": {
     "cellMetadata": {
      "byteLimit": 2048000,
      "rowLimit": 10000
     },
     "inputWidgets": {},
     "nuid": "01e09acd-5210-47ec-b8c5-7cf9595aa5b2",
     "showTitle": false,
     "tableResultSettingsMap": {},
     "title": ""
    }
   },
   "source": [
    "# MOUNTING AZURE BLOB"
   ]
  },
  {
   "cell_type": "code",
   "execution_count": null,
   "metadata": {},
   "outputs": [],
   "source": [
    "from dotenv import load_dotenv\n",
    "import os"
   ]
  },
  {
   "cell_type": "code",
   "execution_count": null,
   "metadata": {},
   "outputs": [],
   "source": [
    "SOURCE = os.getenv('SOURCE')\n",
    "MOUNT_POINT = os.getenv('MOUNT_POINT')\n",
    "BLOB_KEY = os.getenv('BLOB_KEY')\n",
    "\n",
    "ENDPOINT = os.getenv('ENDPOINT')\n",
    "ACCOUNT_KEY = os.getenv('ACCOUNT_KEY')\n",
    "DATABASE = os.getenv('DATABASE')\n",
    "CONTAINER = os.getenv('CONTAINER')"
   ]
  },
  {
   "cell_type": "code",
   "execution_count": 0,
   "metadata": {
    "application/vnd.databricks.v1+cell": {
     "cellMetadata": {
      "byteLimit": 2048000,
      "rowLimit": 10000
     },
     "inputWidgets": {},
     "nuid": "558c374b-3596-43f4-b867-e02bc1740616",
     "showTitle": false,
     "tableResultSettingsMap": {},
     "title": ""
    }
   },
   "outputs": [
    {
     "name": "stdout",
     "output_type": "stream",
     "text": [
      "/mnt/raw_data has been unmounted.\n"
     ]
    },
    {
     "data": {
      "text/plain": [
       "True"
      ]
     },
     "execution_count": 1,
     "metadata": {},
     "output_type": "execute_result"
    }
   ],
   "source": [
    "if any(mount.mountPoint == MOUNT_POINT for mount in dbutils.fs.mounts()):\n",
    "    dbutils.fs.unmount(MOUNT_POINT)\n",
    "\n",
    "dbutils.fs.mount(\n",
    "    source=SOURCE,\n",
    "    mount_point=MOUNT_POINT,\n",
    "    extra_configs={\"fs.azure.account.key.gutenbergbooks.blob.core.windows.net\": BLOB_KEY}\n",
    ")"
   ]
  },
  {
   "cell_type": "markdown",
   "metadata": {
    "application/vnd.databricks.v1+cell": {
     "cellMetadata": {
      "byteLimit": 2048000,
      "rowLimit": 10000
     },
     "inputWidgets": {},
     "nuid": "5e2a642c-2bc6-45ef-b8a2-48be90e486e0",
     "showTitle": false,
     "tableResultSettingsMap": {},
     "title": ""
    }
   },
   "source": [
    "# FUNCTIONS"
   ]
  },
  {
   "cell_type": "code",
   "execution_count": 0,
   "metadata": {
    "application/vnd.databricks.v1+cell": {
     "cellMetadata": {
      "byteLimit": 2048000,
      "rowLimit": 10000
     },
     "inputWidgets": {},
     "nuid": "aa1d73a2-80f7-469f-8ccb-eb248ea4ef17",
     "showTitle": false,
     "tableResultSettingsMap": {},
     "title": ""
    }
   },
   "outputs": [
    {
     "name": "stdout",
     "output_type": "stream",
     "text": [
      "\u001b[43mNote: you may need to restart the kernel using dbutils.library.restartPython() to use updated packages.\u001b[0m\n",
      "Collecting sparknlp\n",
      "  Downloading sparknlp-1.0.0-py3-none-any.whl (1.4 kB)\n",
      "Collecting spark-nlp\n",
      "  Downloading spark_nlp-5.5.3-py2.py3-none-any.whl (635 kB)\n",
      "     ━━━━━━━━━━━━━━━━━━━━━━━━━━━━━━━━━━━━━━ 635.7/635.7 kB 16.6 MB/s eta 0:00:00\n",
      "Requirement already satisfied: numpy in /databricks/python3/lib/python3.10/site-packages (from sparknlp) (1.23.5)\n",
      "Installing collected packages: spark-nlp, sparknlp\n",
      "Successfully installed spark-nlp-5.5.3 sparknlp-1.0.0\n",
      "\u001b[43mNote: you may need to restart the kernel using dbutils.library.restartPython() to use updated packages.\u001b[0m\n",
      "\u001b[43mNote: you may need to restart the kernel using dbutils.library.restartPython() to use updated packages.\u001b[0m\n",
      "Collecting textstat\n",
      "  Downloading textstat-0.7.4-py3-none-any.whl (105 kB)\n",
      "     ━━━━━━━━━━━━━━━━━━━━━━━━━━━━━━━━━━━━━━━ 105.1/105.1 kB 3.4 MB/s eta 0:00:00\n",
      "Requirement already satisfied: setuptools in /databricks/python3/lib/python3.10/site-packages (from textstat) (65.6.3)\n",
      "Collecting pyphen\n",
      "  Downloading pyphen-0.17.2-py3-none-any.whl (2.1 MB)\n",
      "     ━━━━━━━━━━━━━━━━━━━━━━━━━━━━━━━━━━━━━━━━ 2.1/2.1 MB 55.7 MB/s eta 0:00:00\n",
      "Installing collected packages: pyphen, textstat\n",
      "Successfully installed pyphen-0.17.2 textstat-0.7.4\n",
      "\u001b[43mNote: you may need to restart the kernel using dbutils.library.restartPython() to use updated packages.\u001b[0m\n"
     ]
    }
   ],
   "source": [
    "%pip install sparknlp\n",
    "%pip install textstat\n",
    "from datetime import datetime\n",
    "\n",
    "import sparknlp\n",
    "from sparknlp.base import *\n",
    "from sparknlp.annotator import Tokenizer, StopWordsCleaner, Stemmer\n",
    "\n",
    "from pyspark.ml import Pipeline\n",
    "from pyspark.ml.feature import Tokenizer, StopWordsRemover\n",
    "\n",
    "from pyspark.sql import SparkSession, Row\n",
    "from pyspark.sql.functions import lit, desc\n",
    "from pyspark.sql.types import StringType\n",
    "from pyspark.sql.types import StructType, StructField\n",
    "\n",
    "from pyspark.sql.functions import lit, col, regexp_extract\n",
    "from pyspark.sql.types import DoubleType\n",
    "from textstat import textstat"
   ]
  },
  {
   "cell_type": "code",
   "execution_count": 0,
   "metadata": {
    "application/vnd.databricks.v1+cell": {
     "cellMetadata": {
      "byteLimit": 2048000,
      "implicitDf": true,
      "rowLimit": 10000
     },
     "inputWidgets": {},
     "nuid": "954cd475-7cb6-4f4c-a23d-9b3bc9b1df73",
     "showTitle": false,
     "tableResultSettingsMap": {},
     "title": ""
    }
   },
   "outputs": [
    {
     "data": {
      "text/html": [
       "<style scoped>\n",
       "  .table-result-container {\n",
       "    max-height: 300px;\n",
       "    overflow: auto;\n",
       "  }\n",
       "  table, th, td {\n",
       "    border: 1px solid black;\n",
       "    border-collapse: collapse;\n",
       "  }\n",
       "  th, td {\n",
       "    padding: 5px;\n",
       "  }\n",
       "  th {\n",
       "    text-align: left;\n",
       "  }\n",
       "</style><div class='table-result-container'><table class='table-result'><thead style='background-color: white'><tr></tr></thead><tbody></tbody></table></div>"
      ]
     },
     "metadata": {
      "application/vnd.databricks.v1+output": {
       "addedWidgets": {},
       "aggData": [],
       "aggError": "",
       "aggOverflow": false,
       "aggSchema": [],
       "aggSeriesLimitReached": false,
       "aggType": "",
       "arguments": {},
       "columnCustomDisplayInfos": {},
       "data": [],
       "datasetInfos": [],
       "dbfsResultPath": null,
       "isJsonSchema": true,
       "metadata": {
        "dataframeName": null
       },
       "overflow": false,
       "plotOptions": {
        "customPlotOptions": {},
        "displayType": "table",
        "pivotAggregation": null,
        "pivotColumns": null,
        "xColumns": null,
        "yColumns": null
       },
       "removedWidgets": [],
       "schema": [],
       "type": "table"
      }
     },
     "output_type": "display_data"
    }
   ],
   "source": [
    "%sql\n",
    "CREATE TABLE IF NOT EXISTS books_to_process (\n",
    "    book_id LONG,    \n",
    "    book_author STRING,\n",
    "    book_title STRING,\n",
    "    book_category ARRAY<STRING>,\n",
    "    release_date STRING,\n",
    "    book_text STRING\n",
    ")\n",
    "USING DELTA;"
   ]
  },
  {
   "cell_type": "markdown",
   "metadata": {
    "application/vnd.databricks.v1+cell": {
     "cellMetadata": {
      "byteLimit": 2048000,
      "rowLimit": 10000
     },
     "inputWidgets": {},
     "nuid": "ab00b38a-77c3-4d50-a9bd-bf0338c94ea2",
     "showTitle": false,
     "tableResultSettingsMap": {},
     "title": ""
    }
   },
   "source": [
    "# GET FILE PATHS"
   ]
  },
  {
   "cell_type": "code",
   "execution_count": 0,
   "metadata": {
    "application/vnd.databricks.v1+cell": {
     "cellMetadata": {
      "byteLimit": 2048000,
      "rowLimit": 10000
     },
     "inputWidgets": {},
     "nuid": "d178ff84-f0cb-4f1a-afc7-5fc263450a7f",
     "showTitle": false,
     "tableResultSettingsMap": {},
     "title": ""
    }
   },
   "outputs": [],
   "source": [
    "def get_files():\n",
    "    spark = SparkSession.builder.getOrCreate()\n",
    "    storage_path = '/mnt/raw_data'\n",
    "    folders = [folder.path for folder in dbutils.fs.ls(storage_path)]\n",
    "    json_files = []\n",
    "\n",
    "    for folder in folders:\n",
    "        files = [file.path for file in dbutils.fs.ls(folder) if file.path.endswith(\".json\")]\n",
    "        json_files.extend(files)\n",
    "\n",
    "    return json_files\n"
   ]
  },
  {
   "cell_type": "markdown",
   "metadata": {
    "application/vnd.databricks.v1+cell": {
     "cellMetadata": {
      "byteLimit": 2048000,
      "rowLimit": 10000
     },
     "inputWidgets": {},
     "nuid": "cf5c297a-0673-4bb4-945f-cf8425d451c0",
     "showTitle": false,
     "tableResultSettingsMap": {},
     "title": ""
    }
   },
   "source": [
    "# GET FILES THAT HAVE NOT BEEN PROCESSED - LEFT ANTI JOIN"
   ]
  },
  {
   "cell_type": "code",
   "execution_count": 0,
   "metadata": {
    "application/vnd.databricks.v1+cell": {
     "cellMetadata": {
      "byteLimit": 2048000,
      "rowLimit": 10000
     },
     "inputWidgets": {},
     "nuid": "2129fce3-ca36-475e-8849-0ae72b0d8e0c",
     "showTitle": false,
     "tableResultSettingsMap": {},
     "title": ""
    }
   },
   "outputs": [],
   "source": [
    "def show_files():\n",
    "\n",
    "    json_files = get_files()\n",
    "    if json_files:\n",
    "        schema = StructType([StructField(\"file_path\", StringType(), True)])\n",
    "        new_files_df = spark.createDataFrame([(path,) for path in json_files], [\"file_path\"])\n",
    "        processed_files_df = spark.read.format(\"delta\").load(\"dbfs:/user/hive/warehouse/processed_files\")\n",
    "        unprocessed_files_df = new_files_df.join(processed_files_df, \"file_path\", \"left_anti\").dropDuplicates()\n",
    "        unprocessed_files_limited = unprocessed_files_df.limit(1000)\n",
    "        unprocessed_files = [row.file_path for row in unprocessed_files_limited.collect()]\n",
    "        the_used_files = spark.createDataFrame([(path,) for path in unprocessed_files], schema)\n",
    "        the_used_files.write.format(\"delta\").mode(\"append\").save(\"dbfs:/user/hive/warehouse/processed_files\")\n",
    "        records = spark.read.option(\"multiline\", True).json(unprocessed_files)\n",
    "        return records\n",
    "    else:\n",
    "        print(\"ERROR\")\n",
    "\n",
    "\n"
   ]
  },
  {
   "cell_type": "markdown",
   "metadata": {
    "application/vnd.databricks.v1+cell": {
     "cellMetadata": {
      "byteLimit": 2048000,
      "rowLimit": 10000
     },
     "inputWidgets": {},
     "nuid": "196b7af6-63cd-452f-b330-1ad0e17c2c14",
     "showTitle": false,
     "tableResultSettingsMap": {},
     "title": ""
    }
   },
   "source": [
    "# SAVE BOOK RECORDS IN DELTA TABLE"
   ]
  },
  {
   "cell_type": "code",
   "execution_count": 0,
   "metadata": {
    "application/vnd.databricks.v1+cell": {
     "cellMetadata": {
      "byteLimit": 2048000,
      "rowLimit": 10000
     },
     "inputWidgets": {},
     "nuid": "4c22c554-b458-4e2a-8f69-6da975f32857",
     "showTitle": false,
     "tableResultSettingsMap": {},
     "title": ""
    }
   },
   "outputs": [
    {
     "name": "stdout",
     "output_type": "stream",
     "text": [
      "['dbfs:/mnt/raw_data/2025-02-05/100_TheCompleteWorksofWilliamShakespeare.json', 'dbfs:/mnt/raw_data/2025-02-05/101_TheHackerCrackdownLawandDisorderontheElectronicFrontier.json', 'dbfs:/mnt/raw_data/2025-02-05/102_TheTragedyofPuddnheadWilson.json', 'dbfs:/mnt/raw_data/2025-02-05/103_AroundtheWorldinEightyDays.json', 'dbfs:/mnt/raw_data/2025-02-05/104_InauguralAddressofFranklinDelanoRooseveltGiveninWashingtonDCMarch4th1933.json', 'dbfs:/mnt/raw_data/2025-02-05/105_Persuasion.json', 'dbfs:/mnt/raw_data/2025-02-05/106_JungleTalesofTarzan.json', 'dbfs:/mnt/raw_data/2025-02-05/107_FarfromtheMaddingCrowd.json', 'dbfs:/mnt/raw_data/2025-02-05/108_TheReturnofSherlockHolmes.json', 'dbfs:/mnt/raw_data/2025-02-05/109_RenascenceandOtherPoems.json', 'dbfs:/mnt/raw_data/2025-02-05/10_TheKingJamesVersionoftheBible.json', 'dbfs:/mnt/raw_data/2025-02-05/110_TessofthedUrbervillesAPureWoman.json', 'dbfs:/mnt/raw_data/2025-02-05/111_Freckles.json', 'dbfs:/mnt/raw_data/2025-02-05/112_Violists.json', 'dbfs:/mnt/raw_data/2025-02-05/113_TheSecretGarden.json', 'dbfs:/mnt/raw_data/2025-02-05/114_TheTennielIllustrationsforCarrollsAliceinWonderland.json', 'dbfs:/mnt/raw_data/2025-02-05/115_UnitedStatesCensusFiguresBackto1630.json', 'dbfs:/mnt/raw_data/2025-02-05/116_MotionPicturesoftheApollo11LunarLanding.json', 'dbfs:/mnt/raw_data/2025-02-05/117_SymphonyNo5inCminorOpus67.json', 'dbfs:/mnt/raw_data/2025-02-05/118_BigDummysGuidetotheInternet.json', 'dbfs:/mnt/raw_data/2025-02-05/119_ATrampAbroad.json', 'dbfs:/mnt/raw_data/2025-02-05/11_AlicesAdventuresinWonderland.json', 'dbfs:/mnt/raw_data/2025-02-05/120_TreasureIsland.json', 'dbfs:/mnt/raw_data/2025-02-05/121_NorthangerAbbey.json', 'dbfs:/mnt/raw_data/2025-02-05/122_TheReturnoftheNative.json', 'dbfs:/mnt/raw_data/2025-02-05/123_AttheEarthsCore.json', 'dbfs:/mnt/raw_data/2025-02-05/124_DeuterocanonicalBooksoftheBibleApocrypha.json', 'dbfs:/mnt/raw_data/2025-02-05/125_AGirloftheLimberlost.json', 'dbfs:/mnt/raw_data/2025-02-05/126_ThePoisonBelt.json', 'dbfs:/mnt/raw_data/2025-02-05/127_TheNumbere.json', 'dbfs:/mnt/raw_data/2025-02-05/128_TheArabianNightsEntertainments.json', 'dbfs:/mnt/raw_data/2025-02-05/129_TheSquareRootof2.json', 'dbfs:/mnt/raw_data/2025-02-05/12_ThroughtheLookingGlass.json', 'dbfs:/mnt/raw_data/2025-02-05/130_Orthodoxy.json', 'dbfs:/mnt/raw_data/2025-02-05/131_ThePilgrimsProgressfromthisworldtothatwhichistocomeDeliveredunderthesimilitudeofadreambyJohnBunyan.json', 'dbfs:/mnt/raw_data/2025-02-05/132_TheArtofWar.json', 'dbfs:/mnt/raw_data/2025-02-05/133_TheDamnationofTheronWare.json', 'dbfs:/mnt/raw_data/2025-02-05/134_MariaOrTheWrongsofWoman.json', 'dbfs:/mnt/raw_data/2025-02-05/135_LesMisérables.json', 'dbfs:/mnt/raw_data/2025-02-05/136_AChildsGardenofVerses.json', 'dbfs:/mnt/raw_data/2025-02-05/137_SaraCreweOrWhatHappenedatMissMinchinsBoardingSchool.json', 'dbfs:/mnt/raw_data/2025-02-05/138_GeorgeSandSomeAspectsofHerLifeandWritings.json', 'dbfs:/mnt/raw_data/2025-02-05/139_TheLostWorld.json', 'dbfs:/mnt/raw_data/2025-02-05/13_TheHuntingoftheSnarkAnAgonyinEightFits.json', 'dbfs:/mnt/raw_data/2025-02-05/140_TheJungle.json', 'dbfs:/mnt/raw_data/2025-02-05/141_MansfieldPark.json', 'dbfs:/mnt/raw_data/2025-02-05/142_The30000BequestandOtherStories.json', 'dbfs:/mnt/raw_data/2025-02-05/143_TheMayorofCasterbridge.json', 'dbfs:/mnt/raw_data/2025-02-05/144_TheVoyageOut.json', 'dbfs:/mnt/raw_data/2025-02-05/145_Middlemarch.json', 'dbfs:/mnt/raw_data/2025-02-05/146_ALittlePrincessBeingthewholestoryofSaraCrewenowtoldforthefirsttime.json', 'dbfs:/mnt/raw_data/2025-02-05/147_CommonSense.json', 'dbfs:/mnt/raw_data/2025-02-05/148_TheAutobiographyofBenjaminFranklin.json', 'dbfs:/mnt/raw_data/2025-02-05/149_TheLostContinent.json', 'dbfs:/mnt/raw_data/2025-02-05/14_The1990CIAWorldFactbook.json', 'dbfs:/mnt/raw_data/2025-02-05/150_TheRepublic.json', 'dbfs:/mnt/raw_data/2025-02-05/151_TheRimeoftheAncientMariner.json', 'dbfs:/mnt/raw_data/2025-02-05/152_WildJustice.json', 'dbfs:/mnt/raw_data/2025-02-05/153_JudetheObscure.json', 'dbfs:/mnt/raw_data/2025-02-05/154_TheRiseofSilasLapham.json', 'dbfs:/mnt/raw_data/2025-02-05/155_TheMoonstone.json', 'dbfs:/mnt/raw_data/2025-02-05/156_SymphonyNo5inCminorOpus67.json', 'dbfs:/mnt/raw_data/2025-02-05/157_DaddyLongLegs.json', 'dbfs:/mnt/raw_data/2025-02-05/158_Emma.json', 'dbfs:/mnt/raw_data/2025-02-05/159_TheislandofDoctorMoreau.json', 'dbfs:/mnt/raw_data/2025-02-05/15_MobyDickorTheWhale.json', 'dbfs:/mnt/raw_data/2025-02-05/160_TheAwakeningandSelectedShortStories.json', 'dbfs:/mnt/raw_data/2025-02-05/161_SenseandSensibility.json', 'dbfs:/mnt/raw_data/2025-02-05/162_TakeMeforaRideComingofAgeinaDestructiveCult.json', 'dbfs:/mnt/raw_data/2025-02-05/163_FlowerFables.json', 'dbfs:/mnt/raw_data/2025-02-05/164_TwentyThousandLeaguesundertheSea.json', 'dbfs:/mnt/raw_data/2025-02-05/165_McTeagueAStoryofSanFrancisco.json', 'dbfs:/mnt/raw_data/2025-02-05/166_Summer.json', 'dbfs:/mnt/raw_data/2025-02-05/167_AmericanHandBookoftheDaguerreotype.json', 'dbfs:/mnt/raw_data/2025-02-05/168_TheHistoryandPracticeoftheArtofPhotography.json', 'dbfs:/mnt/raw_data/2025-02-05/169_TheWellattheWorldsEndATale.json', 'dbfs:/mnt/raw_data/2025-02-05/16_PeterPan.json', 'dbfs:/mnt/raw_data/2025-02-05/170_TheHauntedHotelAMysteryofModernVenice.json', 'dbfs:/mnt/raw_data/2025-02-05/171_CharlotteTemple.json', 'dbfs:/mnt/raw_data/2025-02-05/172_TheHauntedBookshop.json', 'dbfs:/mnt/raw_data/2025-02-05/173_TheInsidiousDrFuManchu.json', 'dbfs:/mnt/raw_data/2025-02-05/174_ThePictureofDorianGray.json', 'dbfs:/mnt/raw_data/2025-02-05/175_ThePhantomoftheOpera.json', 'dbfs:/mnt/raw_data/2025-02-05/176_RoderickHudson.json', 'dbfs:/mnt/raw_data/2025-02-05/177_TheAmerican.json', 'dbfs:/mnt/raw_data/2025-02-05/178_Confidence.json', 'dbfs:/mnt/raw_data/2025-02-05/179_TheEuropeans.json', 'dbfs:/mnt/raw_data/2025-02-05/17_TheBookofMormonbanaccountwrittenbythehandofMormonuponplatestakenfromtheplatesofNephi.json', 'dbfs:/mnt/raw_data/2025-02-05/180_The1994CIAWorldFactbook.json', 'dbfs:/mnt/raw_data/2025-02-05/181_TheProjectGutenbergRSTManual.json', 'dbfs:/mnt/raw_data/2025-02-05/18_TheFederalistPapers.json', 'dbfs:/mnt/raw_data/2025-02-05/19_TheSongofHiawatha.json', 'dbfs:/mnt/raw_data/2025-02-05/1_TheDeclarationofIndependenceoftheUnitedStatesofAmerica.json', 'dbfs:/mnt/raw_data/2025-02-05/200_TheProjectGutenbergEncyclopediaVolume1of28.json', 'dbfs:/mnt/raw_data/2025-02-05/201_FlatlandARomanceofManyDimensions.json', 'dbfs:/mnt/raw_data/2025-02-05/202_MyBondageandMyFreedom.json', 'dbfs:/mnt/raw_data/2025-02-05/203_UncleTomsCabin.json', 'dbfs:/mnt/raw_data/2025-02-05/204_TheinnocenceofFatherBrown.json', 'dbfs:/mnt/raw_data/2025-02-05/205_WaldenandOnTheDutyOfCivilDisobedience.json', 'dbfs:/mnt/raw_data/2025-02-05/206_TheMartinLutherKingJrDay1995MemorialIssue.json', 'dbfs:/mnt/raw_data/2025-02-05/207_TheSpelloftheYukonandOtherVerses.json', 'dbfs:/mnt/raw_data/2025-02-05/208_DaisyMillerAStudy.json', 'dbfs:/mnt/raw_data/2025-02-05/209_TheTurnoftheScrew.json', 'dbfs:/mnt/raw_data/2025-02-05/20_ParadiseLost.json', 'dbfs:/mnt/raw_data/2025-02-05/210_AnInternationalEpisode.json', 'dbfs:/mnt/raw_data/2025-02-05/211_TheAspernPapers.json', 'dbfs:/mnt/raw_data/2025-02-05/212_AListofFactorialMathConstants.json', 'dbfs:/mnt/raw_data/2025-02-05/213_TheManfromSnowyRiver.json', 'dbfs:/mnt/raw_data/2025-02-05/214_IntheDaysWhentheWorldWasWideandOtherVerses.json', 'dbfs:/mnt/raw_data/2025-02-05/215_Thecallofthewild.json', 'dbfs:/mnt/raw_data/2025-02-05/216_TheTaoTehKingortheTaoanditsCharacteristics.json', 'dbfs:/mnt/raw_data/2025-02-05/217_SonsandLovers.json', 'dbfs:/mnt/raw_data/2025-02-05/219_HeartofDarkness.json', 'dbfs:/mnt/raw_data/2025-02-05/21_AesopsFablesTranslatedbyGeorgeFylerTownsend.json', 'dbfs:/mnt/raw_data/2025-02-05/220_TheSecretSharer.json', 'dbfs:/mnt/raw_data/2025-02-05/221_TheReturnofSherlockHolmes.json', 'dbfs:/mnt/raw_data/2025-02-05/222_TheMoonandSixpence.json', 'dbfs:/mnt/raw_data/2025-02-05/223_ThewisdomofFatherBrown.json', 'dbfs:/mnt/raw_data/2025-02-05/224_Apairofblueeyes.json', 'dbfs:/mnt/raw_data/2025-02-05/225_AttheBackoftheNorthWind.json', 'dbfs:/mnt/raw_data/2025-02-05/228_TheAeneid.json', 'dbfs:/mnt/raw_data/2025-02-05/22_RogetsThesaurus.json', 'dbfs:/mnt/raw_data/2025-02-05/230_TheBucolicsandEclogues.json', 'dbfs:/mnt/raw_data/2025-02-05/232_TheGeorgics.json', 'dbfs:/mnt/raw_data/2025-02-05/233_SisterCarrieANovel.json', 'dbfs:/mnt/raw_data/2025-02-05/234_ChildChristopherandGoldilindtheFair.json', 'dbfs:/mnt/raw_data/2025-02-05/235_WilliamGibsonInterviewed.json', 'dbfs:/mnt/raw_data/2025-02-05/236_TheJungleBook.json', 'dbfs:/mnt/raw_data/2025-02-05/238_DearEnemy.json', 'dbfs:/mnt/raw_data/2025-02-05/239_RadarMapoftheUnitedStates.json', 'dbfs:/mnt/raw_data/2025-02-05/23_NarrativeoftheLifeofFrederickDouglassanAmericanSlave.json', 'dbfs:/mnt/raw_data/2025-02-05/240_StoriesfromtheOldAttic.json', 'dbfs:/mnt/raw_data/2025-02-05/241_ClotelleOrTheColoredHeroineataleoftheSouthernStatesOrThePresidentsDaughter.json', 'dbfs:/mnt/raw_data/2025-02-05/242_MyÁntonia.json', 'dbfs:/mnt/raw_data/2025-02-05/243_Theforgedcouponandotherstories.json', 'dbfs:/mnt/raw_data/2025-02-05/244_AStudyinScarlet.json', 'dbfs:/mnt/raw_data/2025-02-05/245_LifeontheMississippi.json', 'dbfs:/mnt/raw_data/2025-02-05/246_TheRubaiyatofOmarKhayyam.json', 'dbfs:/mnt/raw_data/2025-02-05/247_WebstersUnabridgedDictionary1st100Pages.json', 'dbfs:/mnt/raw_data/2025-02-05/248_WebstersUnabridgedDictionary2nd100Pages.json', 'dbfs:/mnt/raw_data/2025-02-05/249_FrenchCavePaintings.json', 'dbfs:/mnt/raw_data/2025-02-05/24_OPioneers.json', 'dbfs:/mnt/raw_data/2025-02-05/250_ABriefHistoryoftheInternetTheBrightSideTheDarkSide.json', 'dbfs:/mnt/raw_data/2025-02-05/251_1995UnitedStatesCongressionalAddressBook.json', 'dbfs:/mnt/raw_data/2025-02-05/252_CopyrightLawoftheUnitedStatesofAmericaContainedinTitle17oftheUnitedStatesCode.json', 'dbfs:/mnt/raw_data/2025-02-05/253_TheUniversalCopyrightConvention1988.json', 'dbfs:/mnt/raw_data/2025-02-05/254_TheSecondStoryofMenoAContinuationofSocratesDialoguewithMenoinWhichtheBoyProvesRoot2isIrrational.json', 'dbfs:/mnt/raw_data/2025-02-05/255_QREADEtextReaderforWindows.json', 'dbfs:/mnt/raw_data/2025-02-05/256_MotionPictureofRotatingEarth.json', 'dbfs:/mnt/raw_data/2025-02-05/257_TroilusandCriseyde.json', 'dbfs:/mnt/raw_data/2025-02-05/258_PoemsbyAdamLindsayGordon.json', 'dbfs:/mnt/raw_data/2025-02-05/259_BalladsofaCheechako.json', 'dbfs:/mnt/raw_data/2025-02-05/25_The1991CIAWorldFactbook.json', 'dbfs:/mnt/raw_data/2025-02-05/260_AnIntroductiontotheStudyofRobertBrowningsPoetry.json', 'dbfs:/mnt/raw_data/2025-02-05/261_ADomeofManyColouredGlass.json', 'dbfs:/mnt/raw_data/2025-02-05/262_TheCollectedPoemsofRupertBrooke.json', 'dbfs:/mnt/raw_data/2025-02-05/263_TreesandOtherPoems.json', 'dbfs:/mnt/raw_data/2025-02-05/264_MainStreetandOtherPoems.json', 'dbfs:/mnt/raw_data/2025-02-05/265_TheLifeandDeathofCormactheSkald.json', 'dbfs:/mnt/raw_data/2025-02-05/266_ConfessioAmantisOrTalesoftheSevenDeadlySins.json', 'dbfs:/mnt/raw_data/2025-02-05/267_TheTouchstone.json', 'dbfs:/mnt/raw_data/2025-02-05/268_TheOctopusAStoryofCalifornia.json', 'dbfs:/mnt/raw_data/2025-02-05/269_BeastsandSuperBeasts.json', 'dbfs:/mnt/raw_data/2025-02-05/26_ParadiseLost.json', 'dbfs:/mnt/raw_data/2025-02-05/270_DreamDays.json', 'dbfs:/mnt/raw_data/2025-02-05/271_BlackBeauty.json', 'dbfs:/mnt/raw_data/2025-02-05/272_AnOpenLetteronTranslating.json', 'dbfs:/mnt/raw_data/2025-02-05/273_TheSmalcaldArticles.json', 'dbfs:/mnt/raw_data/2025-02-05/274_DisputationofDoctorMartinLutheronthePowerandEfficacyofIndulgences.json', 'dbfs:/mnt/raw_data/2025-02-05/275_TheAugsburgConfessionTheconfessionoffaithwhichwassubmittedtoHisImperialMajestyCharlesVatthedietofAugsburgintheyear1530.json', 'dbfs:/mnt/raw_data/2025-02-05/276_FranzHaydns104thSymphony17945MIDIfile.json', 'dbfs:/mnt/raw_data/2025-02-05/277_TrinitySite.json', 'dbfs:/mnt/raw_data/2025-02-05/278_TrinitySite19451995ANationalHistoricLandmarkWhiteSandsMissileRangeNewMexico.json', 'dbfs:/mnt/raw_data/2025-02-05/279_PhotosandMapsofTrinityAtomicTestSite.json', 'dbfs:/mnt/raw_data/2025-02-05/27_FarfromtheMaddingCrowd.json', 'dbfs:/mnt/raw_data/2025-02-05/280_RecordsofaFamilyofEngineers.json', 'dbfs:/mnt/raw_data/2025-02-05/281_FatherDamienAnOpenLettertotheReverendDrHydeofHonolulu.json', 'dbfs:/mnt/raw_data/2025-02-05/282_EothenOrTracesofTravelBroughtHomefromtheEast.json', 'dbfs:/mnt/raw_data/2025-02-05/283_TheReef.json', 'dbfs:/mnt/raw_data/2025-02-05/284_TheHouseofMirth.json', 'dbfs:/mnt/raw_data/2025-02-05/285_TheLostContinent.json', 'dbfs:/mnt/raw_data/2025-02-05/286_LaddieATrueBlueStory.json', 'dbfs:/mnt/raw_data/2025-02-05/287_RemembertheAlamo.json', 'dbfs:/mnt/raw_data/2025-02-05/288_TheCertainHourDizaindesPoëtes.json', 'dbfs:/mnt/raw_data/2025-02-05/289_TheWindintheWillows.json', 'dbfs:/mnt/raw_data/2025-02-05/28_TheFablesofAesopSelectedToldAnewandTheirHistoryTraced.json', 'dbfs:/mnt/raw_data/2025-02-05/290_TheStarkMunroLettersBeingseriesoftwelveletterswrittenbyJStarkMunroMBtohisfriendandformerfellowstudentHerbertSwanboroughofLowellMassachusettsduringtheyears18811884.json', 'dbfs:/mnt/raw_data/2025-02-05/291_TheGoldenAge.json', 'dbfs:/mnt/raw_data/2025-02-05/292_BeautyandtheBeastandTalesofHome.json', 'dbfs:/mnt/raw_data/2025-02-05/293_PaulPrescottsCharge.json', 'dbfs:/mnt/raw_data/2025-02-05/294_TheCaptainofthePolestarandOtherTales.json', 'dbfs:/mnt/raw_data/2025-02-05/295_TheEarlyShortFictionofEdithWharton—Part1.json', 'dbfs:/mnt/raw_data/2025-02-05/296_TheCashBoy.json', 'dbfs:/mnt/raw_data/2025-02-05/297_TheFlirt.json', 'dbfs:/mnt/raw_data/2025-02-05/298_TheMarketPlace.json', 'dbfs:/mnt/raw_data/2025-02-05/299_TalesfromTwoHemispheres.json', 'dbfs:/mnt/raw_data/2025-02-05/29_The1990UnitedStatesCensus.json', 'dbfs:/mnt/raw_data/2025-02-05/2_TheUnitedStatesBillofRightsTheTenOriginalAmendmentstotheConstitutionoftheUnitedStates.json', 'dbfs:/mnt/raw_data/2025-02-05/300_UnitedStatesDeclarationofIndependence.json', 'dbfs:/mnt/raw_data/2025-02-05/301_TheBalladofReadingGaol.json', 'dbfs:/mnt/raw_data/2025-02-05/302_TheFibonacciNumberSeries.json', 'dbfs:/mnt/raw_data/2025-02-05/303_HomeBrewHomePagesPutYOUontheWorldWideWeb.json', 'dbfs:/mnt/raw_data/2025-02-05/304_RioGrandesLastRaceandOtherVerses.json', 'dbfs:/mnt/raw_data/2025-02-05/305_TheCountsMillions.json', 'dbfs:/mnt/raw_data/2025-02-05/306_TheEarlyShortFictionofEdithWharton—Part2.json', 'dbfs:/mnt/raw_data/2025-02-05/307_ThreeElephantPowerandOtherStories.json', 'dbfs:/mnt/raw_data/2025-02-05/308_ThreeMeninaBoatToSayNothingoftheDog.json', 'dbfs:/mnt/raw_data/2025-02-05/309_RhymesofaRollingStone.json', 'dbfs:/mnt/raw_data/2025-02-05/30_TheBibleKingJamesVersionComplete.json', 'dbfs:/mnt/raw_data/2025-02-05/310_BeforeAdam.json', 'dbfs:/mnt/raw_data/2025-02-05/311_BunnerSisters.json', 'dbfs:/mnt/raw_data/2025-02-05/312_YoungAdventureABookofPoems.json', 'dbfs:/mnt/raw_data/2025-02-05/313_ChildrenoftheNight.json', 'dbfs:/mnt/raw_data/2025-02-05/314_GuidetoLifeandLiteratureoftheSouthwestwithaFewObservations.json', 'dbfs:/mnt/raw_data/2025-02-05/315_RhymesofaRedCrossMan.json', 'dbfs:/mnt/raw_data/2025-02-05/316_TheGoldenRoad.json', 'dbfs:/mnt/raw_data/2025-02-05/317_TheCulpritFayandOtherPoems.json', 'dbfs:/mnt/raw_data/2025-02-05/318_JohnBarleycorn.json', 'dbfs:/mnt/raw_data/2025-02-05/319_TheWaysofMen.json', 'dbfs:/mnt/raw_data/2025-02-05/31_PlaysofSophoclesOedipustheKingOedipusatColonusAntigone.json', 'dbfs:/mnt/raw_data/2025-02-05/321_MoranoftheLadyLetty.json', 'dbfs:/mnt/raw_data/2025-02-05/322_StIvesBeingtheAdventuresofaFrenchPrisonerinEngland.json', 'dbfs:/mnt/raw_data/2025-02-05/323_Verses18891896.json', 'dbfs:/mnt/raw_data/2025-02-05/324_AKnightoftheCumberland.json', 'dbfs:/mnt/raw_data/2025-02-05/325_PhantastesAFaerieRomanceforMenandWomen.json', 'dbfs:/mnt/raw_data/2025-02-05/32_Herland.json', 'dbfs:/mnt/raw_data/2025-02-05/33_TheScarletLetter.json', 'dbfs:/mnt/raw_data/2025-02-05/34_ZenandtheArtoftheInternet.json', 'dbfs:/mnt/raw_data/2025-02-05/35_TheTimeMachine.json', 'dbfs:/mnt/raw_data/2025-02-05/36_TheWaroftheWorlds.json', 'dbfs:/mnt/raw_data/2025-02-05/37_The1990UnitedStatesCensus2nd.json', 'dbfs:/mnt/raw_data/2025-02-05/38_TheJargonFileVersion291001Jul1992.json', 'dbfs:/mnt/raw_data/2025-02-05/39_HitchhikersGuidetotheInternet.json', 'dbfs:/mnt/raw_data/2025-02-05/3_JohnFKennedysInauguralAddress.json', 'dbfs:/mnt/raw_data/2025-02-05/40_NorthWestNetUserServicesInternetResourceGuideNUSIRG.json', 'dbfs:/mnt/raw_data/2025-02-05/41_TheLegendofSleepyHollow.json', 'dbfs:/mnt/raw_data/2025-02-05/42_TheStrangeCaseofDrJekyllandMrHyde.json', 'dbfs:/mnt/raw_data/2025-02-05/43_TheStrangeCaseofDrJekyllandMrHyde.json', 'dbfs:/mnt/raw_data/2025-02-05/44_TheSongoftheLark.json', 'dbfs:/mnt/raw_data/2025-02-05/45_AnneofGreenGables.json', 'dbfs:/mnt/raw_data/2025-02-05/46_AChristmasCarolinProseBeingaGhostStoryofChristmas.json', 'dbfs:/mnt/raw_data/2025-02-05/47_AnneofAvonlea.json', 'dbfs:/mnt/raw_data/2025-02-05/48_The1992CIAWorldFactbook.json', 'dbfs:/mnt/raw_data/2025-02-05/49_SurfingtheInternetAnIntroductionVersion202.json', 'dbfs:/mnt/raw_data/2025-02-05/4_LincolnsGettysburgAddressGivenNovember191863onthebattlefieldnearGettysburgPennsylvaniaUSA.json', 'dbfs:/mnt/raw_data/2025-02-05/50_Pi.json', 'dbfs:/mnt/raw_data/2025-02-05/51_AnneoftheIsland.json', 'dbfs:/mnt/raw_data/2025-02-05/52_TheSquareRootof2.json', 'dbfs:/mnt/raw_data/2025-02-05/53_WorkshoponElectronicTextsProceedings910June1992.json', 'dbfs:/mnt/raw_data/2025-02-05/54_TheMarvelousLandofOz.json', 'dbfs:/mnt/raw_data/2025-02-05/55_TheWonderfulWizardofOz.json', 'dbfs:/mnt/raw_data/2025-02-05/56_NRENforAllInsurmountableOpportunity.json', 'dbfs:/mnt/raw_data/2025-02-05/57_AladdinandtheMagicLamp.json', 'dbfs:/mnt/raw_data/2025-02-05/58_ParadiseRegained.json', 'dbfs:/mnt/raw_data/2025-02-05/59_DiscourseontheMethodofRightlyConductingOnesReasonandofSeekingTruthintheSciences.json', 'dbfs:/mnt/raw_data/2025-02-05/5_TheUnitedStatesConstitution.json', 'dbfs:/mnt/raw_data/2025-02-05/60_TheScarletPimpernel.json', 'dbfs:/mnt/raw_data/2025-02-05/61_TheCommunistManifesto.json', 'dbfs:/mnt/raw_data/2025-02-05/62_APrincessofMars.json', 'dbfs:/mnt/raw_data/2025-02-05/63_TheNumbere.json', 'dbfs:/mnt/raw_data/2025-02-05/64_TheGodsofMars.json', 'dbfs:/mnt/raw_data/2025-02-05/65_TheFirst100000PrimeNumbers.json', 'dbfs:/mnt/raw_data/2025-02-05/66_TheDawnofAmateurRadiointheUKandGreeceAPersonalView.json', 'dbfs:/mnt/raw_data/2025-02-05/67_TheBlackExperienceinAmerica.json', 'dbfs:/mnt/raw_data/2025-02-05/68_ThewarlordofMars.json', 'dbfs:/mnt/raw_data/2025-02-05/69_The32ndMersennePrimePredictedbyMersenne.json', 'dbfs:/mnt/raw_data/2025-02-05/6_GiveMeLibertyorGiveMeDeath.json', 'dbfs:/mnt/raw_data/2025-02-05/70_WhatIsManandOtherEssays.json', 'dbfs:/mnt/raw_data/2025-02-05/71_OntheDutyofCivilDisobedience.json', 'dbfs:/mnt/raw_data/2025-02-05/72_ThuviaMaidofMars.json', 'dbfs:/mnt/raw_data/2025-02-05/73_TheRedBadgeofCourageAnEpisodeoftheAmericanCivilWar.json', 'dbfs:/mnt/raw_data/2025-02-05/74_TheAdventuresofTomSawyerComplete.json', 'dbfs:/mnt/raw_data/2025-02-05/75_Email101.json', 'dbfs:/mnt/raw_data/2025-02-05/76_AdventuresofHuckleberryFinn.json', 'dbfs:/mnt/raw_data/2025-02-05/77_TheHouseoftheSevenGables.json', 'dbfs:/mnt/raw_data/2025-02-05/78_TarzanoftheApes.json', 'dbfs:/mnt/raw_data/2025-02-05/79_TerminalCompromise.json', 'dbfs:/mnt/raw_data/2025-02-05/7_TheMayflowerCompact.json', 'dbfs:/mnt/raw_data/2025-02-05/80_TheOnlineWorld.json', 'dbfs:/mnt/raw_data/2025-02-05/81_TheReturnofTarzan.json', 'dbfs:/mnt/raw_data/2025-02-05/82_IvanhoeARomance.json', 'dbfs:/mnt/raw_data/2025-02-05/83_FromtheEarthtotheMoonandRoundtheMoon.json', 'dbfs:/mnt/raw_data/2025-02-05/84_FrankensteinOrTheModernPrometheus.json', 'dbfs:/mnt/raw_data/2025-02-05/85_TheBeastsofTarzan.json', 'dbfs:/mnt/raw_data/2025-02-05/86_AConnecticutYankeeinKingArthursCourt.json', 'dbfs:/mnt/raw_data/2025-02-05/87_The1993CIAWorldFactbook.json', 'dbfs:/mnt/raw_data/2025-02-05/88_PriceCostIndexesfrom1875to1989Estimatedto2010.json', 'dbfs:/mnt/raw_data/2025-02-05/89_NorthAmericanFreeTradeAgreement1992Oct7TariffPhasingDescriptions.json', 'dbfs:/mnt/raw_data/2025-02-05/8_AbrahamLincolnsSecondInauguralAddress.json', 'dbfs:/mnt/raw_data/2025-02-05/90_TheSonofTarzan.json', 'dbfs:/mnt/raw_data/2025-02-05/91_TomSawyerAbroad.json', 'dbfs:/mnt/raw_data/2025-02-05/92_TarzanandtheJewelsofOpar.json', 'dbfs:/mnt/raw_data/2025-02-05/93_TomSawyerDetective.json', 'dbfs:/mnt/raw_data/2025-02-05/94_AlexandersBridge.json', 'dbfs:/mnt/raw_data/2025-02-05/95_TheprisonerofZenda.json', 'dbfs:/mnt/raw_data/2025-02-05/96_TheMonsterMen.json', 'dbfs:/mnt/raw_data/2025-02-05/97_FlatlandARomanceofManyDimensions.json', 'dbfs:/mnt/raw_data/2025-02-05/98_ATaleofTwoCities.json', 'dbfs:/mnt/raw_data/2025-02-05/99_CollectedArticlesofFrederickDouglass.json', 'dbfs:/mnt/raw_data/2025-02-05/9_AbrahamLincolnsFirstInauguralAddress.json']\n"
     ]
    }
   ],
   "source": [
    "from pyspark.sql.functions import length, regexp_replace, col, desc, from_unixtime,unix_timestamp\n",
    "from pyspark.sql.types import DoubleType\n",
    "from textstat import textstat\n",
    "\n",
    "def process_records():\n",
    "    df_books = show_files()\n",
    "    df_books = df_books.dropDuplicates()\n",
    "    df_books.write.format(\"delta\").mode(\"overwrite\").save(\"dbfs:/user/hive/warehouse/books_to_process\")\n",
    "\n",
    "process_records()\n"
   ]
  },
  {
   "cell_type": "markdown",
   "metadata": {
    "application/vnd.databricks.v1+cell": {
     "cellMetadata": {
      "byteLimit": 2048000,
      "rowLimit": 10000
     },
     "inputWidgets": {},
     "nuid": "a8f74052-aa32-4f43-b28b-f298c30a24b5",
     "showTitle": false,
     "tableResultSettingsMap": {},
     "title": ""
    }
   },
   "source": [
    "# PROCESS THE BOOKS AND SAVE IT IN COSMOS DB"
   ]
  },
  {
   "cell_type": "code",
   "execution_count": 0,
   "metadata": {
    "application/vnd.databricks.v1+cell": {
     "cellMetadata": {
      "byteLimit": 2048000,
      "rowLimit": 10000
     },
     "inputWidgets": {},
     "nuid": "d0b01d78-1d55-4526-aef1-b67e5fe302e0",
     "showTitle": false,
     "tableResultSettingsMap": {},
     "title": ""
    }
   },
   "outputs": [],
   "source": [
    "def get_readability_score(text):\n",
    "    if text:\n",
    "        return textstat.flesch_reading_ease(text)\n",
    "    return None\n",
    "\n",
    "readability_udf = udf(get_readability_score, DoubleType())\n",
    "\n",
    "cosmosConfig = {\n",
    "        \"spark.cosmos.accountEndpoint\": ENDPOINT,\n",
    "        \"spark.cosmos.accountKey\": ACCOUNT_KEY,\n",
    "        \"spark.cosmos.database\": DATABASE,\n",
    "        \"spark.cosmos.container\": CONTAINER,\n",
    "        \"spark.cosmos.write.strategy\": \"ItemAppend\"\n",
    "    }\n",
    "\n",
    "def process_books():\n",
    "    books_df = spark.read.option(\"multiline\", True).table('hive_metastore.default.books_to_process')\n",
    "    books_df = books_df.withColumn(\n",
    "        'word_count', \n",
    "        (length(books_df.book_text) - length(regexp_replace(books_df.book_text, ' ', '')) + 1)\n",
    "    )\n",
    "    books_df = books_df.withColumn(\"release_date\", from_unixtime(unix_timestamp(\"release_date\", \"MMM d, yyyy\"), \"yyyy-MM-dd\"))\n",
    "    books_df = books_df.sort('book_id')\n",
    "\n",
    "    books_df = books_df.withColumn(\"readability\", readability_udf(books_df.book_text))\n",
    "    books_df = books_df.drop('book_text')\n",
    "    books_df = books_df.withColumn(\"id\", col(\"book_id\").cast(\"string\"))\n",
    "    books_df.write.format('cosmos.oltp').options(**cosmosConfig).mode('APPEND').save()\n",
    "\n",
    "\n",
    "\n",
    "process_books()\n",
    "\n",
    "\n",
    "\n",
    "\n"
   ]
  }
 ],
 "metadata": {
  "application/vnd.databricks.v1+notebook": {
   "computePreferences": null,
   "dashboards": [],
   "environmentMetadata": {
    "base_environment": "",
    "environment_version": "1"
   },
   "language": "python",
   "notebookMetadata": {
    "mostRecentlyExecutedCommandWithImplicitDF": {
     "commandId": 7508099296583329,
     "dataframes": [
      "_sqldf"
     ]
    },
    "pythonIndentUnit": 4
   },
   "notebookName": "incremental_load_raw_data",
   "widgets": {}
  },
  "language_info": {
   "name": "python"
  }
 },
 "nbformat": 4,
 "nbformat_minor": 0
}
